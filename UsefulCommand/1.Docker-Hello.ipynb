{
 "cells": [
  {
   "cell_type": "markdown",
   "id": "50d14d85-c72e-44ef-aa72-e20ee7d3696f",
   "metadata": {},
   "source": [
    "# Docker Hub Getting Started\n",
    "\n",
    "이 노트북은 아래 Quick Start 를 단계별로 구현 및 실행 해보았습니다.\n",
    "\n",
    "---\n",
    "\n",
    "- Quick Start\n",
    "    - https://docs.docker.com/docker-hub/quickstart/\n",
    "- Docker Hub Login\n",
    "    - https://docs.docker.com/engine/reference/commandline/login/\n",
    "- gonsoomoon docker page\n",
    "    - https://hub.docker.com/repository/docker/gonsoomoon/hello-gsmoon/general"
   ]
  },
  {
   "cell_type": "markdown",
   "id": "150d28ec-7b47-4fc1-8c35-319f2e2e2756",
   "metadata": {},
   "source": [
    "## 1. Docker hub 에서 hello-world 도커 이미지 로컬에 다운로드"
   ]
  },
  {
   "cell_type": "code",
   "execution_count": 11,
   "id": "f21c2765-1565-4c0d-a192-a61208757840",
   "metadata": {
    "tags": []
   },
   "outputs": [
    {
     "name": "stdout",
     "output_type": "stream",
     "text": [
      "Using default tag: latest\n",
      "latest: Pulling from library/hello-world\n",
      "Digest: sha256:926fac19d22aa2d60f1a276b66a20eb765fbeea2db5dbdaafeb456ad8ce81598\n",
      "Status: Image is up to date for hello-world:latest\n",
      "docker.io/library/hello-world:latest\n"
     ]
    }
   ],
   "source": [
    "! docker pull hello-world"
   ]
  },
  {
   "cell_type": "markdown",
   "id": "0486493f-91e3-47f6-b570-d2ff52acde08",
   "metadata": {},
   "source": [
    "## 2. Docker 실행"
   ]
  },
  {
   "cell_type": "code",
   "execution_count": 12,
   "id": "395bb6f2-68e8-478b-a0e3-97ef727efc91",
   "metadata": {
    "tags": []
   },
   "outputs": [
    {
     "name": "stdout",
     "output_type": "stream",
     "text": [
      "\n",
      "Hello from Docker!\n",
      "This message shows that your installation appears to be working correctly.\n",
      "\n",
      "To generate this message, Docker took the following steps:\n",
      " 1. The Docker client contacted the Docker daemon.\n",
      " 2. The Docker daemon pulled the \"hello-world\" image from the Docker Hub.\n",
      "    (amd64)\n",
      " 3. The Docker daemon created a new container from that image which runs the\n",
      "    executable that produces the output you are currently reading.\n",
      " 4. The Docker daemon streamed that output to the Docker client, which sent it\n",
      "    to your terminal.\n",
      "\n",
      "To try something more ambitious, you can run an Ubuntu container with:\n",
      " $ docker run -it ubuntu bash\n",
      "\n",
      "Share images, automate workflows, and more with a free Docker ID:\n",
      " https://hub.docker.com/\n",
      "\n",
      "For more examples and ideas, visit:\n",
      " https://docs.docker.com/get-started/\n",
      "\n"
     ]
    }
   ],
   "source": [
    "! docker run hello-world"
   ]
  },
  {
   "cell_type": "markdown",
   "id": "a9c9d01b-7b29-4391-9689-04b069635a76",
   "metadata": {},
   "source": [
    "## 3. 로컬에 Docker 이미지 빌드"
   ]
  },
  {
   "cell_type": "code",
   "execution_count": 13,
   "id": "ad41aa8d-7664-440a-9ad4-90241c591c1b",
   "metadata": {
    "tags": []
   },
   "outputs": [
    {
     "name": "stdout",
     "output_type": "stream",
     "text": [
      "Overwriting Dockerfile\n"
     ]
    }
   ],
   "source": [
    "%%writefile Dockerfile\n",
    "\n",
    "FROM busybox\n",
    "CMD echo \"Hello world! This is my first Docker image.\""
   ]
  },
  {
   "cell_type": "code",
   "execution_count": 14,
   "id": "95203baf-35fb-485f-a35e-b57e14bd2283",
   "metadata": {
    "tags": []
   },
   "outputs": [
    {
     "name": "stdout",
     "output_type": "stream",
     "text": [
      "Sending build context to Docker daemon   16.9kB\n",
      "Step 1/2 : FROM busybox\n",
      " ---> a416a98b71e2\n",
      "Step 2/2 : CMD echo \"Hello world! This is my first Docker image.\"\n",
      " ---> Using cache\n",
      " ---> a98fbbd7afb4\n",
      "Successfully built a98fbbd7afb4\n",
      "Successfully tagged gonsoomoon/hello-gsmoon:latest\n"
     ]
    }
   ],
   "source": [
    "%%sh\n",
    "\n",
    "docker build -t gonsoomoon/hello-gsmoon ."
   ]
  },
  {
   "cell_type": "markdown",
   "id": "caac6feb-8413-4f8c-a040-9c857ca5b712",
   "metadata": {},
   "source": [
    "## 4. 빌드된 Docker Image 확인"
   ]
  },
  {
   "cell_type": "code",
   "execution_count": 6,
   "id": "7e964972-d8a8-4930-a117-1c31af1fb1a4",
   "metadata": {
    "tags": []
   },
   "outputs": [
    {
     "name": "stdout",
     "output_type": "stream",
     "text": [
      "REPOSITORY                                                              TAG       IMAGE ID       CREATED             SIZE\n",
      "gonsoomoon/hello-gsmoon                                                 latest    a98fbbd7afb4   About an hour ago   4.26MB\n",
      "057716757052.dkr.ecr.us-east-1.amazonaws.com/sagemaker-decision-trees   latest    c19a0c16cdfc   2 hours ago         380MB\n",
      "sagemaker-decision-trees                                                latest    c19a0c16cdfc   2 hours ago         380MB\n",
      "busybox                                                                 latest    a416a98b71e2   34 hours ago        4.26MB\n",
      "ubuntu                                                                  18.04     f9a80a55f492   7 weeks ago         63.2MB\n",
      "hello-world                                                             latest    9c7a54a9a43c   2 months ago        13.3kB\n"
     ]
    }
   ],
   "source": [
    "! docker image ls"
   ]
  },
  {
   "cell_type": "markdown",
   "id": "59eea9c5-9001-458d-b82b-a3d9826f4ec6",
   "metadata": {},
   "source": [
    "## 5. 로컬에 생성한 도커 이미지를 실행"
   ]
  },
  {
   "cell_type": "code",
   "execution_count": 7,
   "id": "464be453-1ef1-4c22-9323-f3627cb52780",
   "metadata": {},
   "outputs": [
    {
     "name": "stdout",
     "output_type": "stream",
     "text": [
      "Hello world! This is my first Docker image.\n"
     ]
    }
   ],
   "source": [
    "! docker run gonsoomoon/hello-gsmoon "
   ]
  },
  {
   "cell_type": "markdown",
   "id": "2791be87-a370-4871-a8b8-9b58af857a40",
   "metadata": {},
   "source": [
    "## 6.Docker Hub 에 로그인\n",
    "- password.txt 파일 생성하고 패스워드 저장 해야 합니다."
   ]
  },
  {
   "cell_type": "code",
   "execution_count": 9,
   "id": "9ea5aaf3-8e08-4c35-a64b-8d0d044f9923",
   "metadata": {
    "tags": []
   },
   "outputs": [
    {
     "name": "stdout",
     "output_type": "stream",
     "text": [
      "WARNING! Your password will be stored unencrypted in /home/ec2-user/.docker/config.json.\n",
      "Configure a credential helper to remove this warning. See\n",
      "https://docs.docker.com/engine/reference/commandline/login/#credentials-store\n",
      "\n",
      "Login Succeeded\n"
     ]
    }
   ],
   "source": [
    "! cat ./password.txt | docker login --username gonsoomoon --password-stdin"
   ]
  },
  {
   "cell_type": "markdown",
   "id": "9699db02-06d7-45d2-aa11-3ec6ab35e839",
   "metadata": {},
   "source": [
    "## 7.로컬의 Docker Image 푸시"
   ]
  },
  {
   "cell_type": "code",
   "execution_count": 10,
   "id": "6631d475-5b33-4494-a944-7d726fd71d36",
   "metadata": {
    "tags": []
   },
   "outputs": [
    {
     "name": "stdout",
     "output_type": "stream",
     "text": [
      "Using default tag: latest\n",
      "The push refers to repository [docker.io/gonsoomoon/hello-gsmoon]\n",
      "\n",
      "\u001b[1Bee258efc: Mounted from library/busybox latest: digest: sha256:ab625ef7e24fa836c60592619879ae886849af853a44ac46c8e0dc347ac51fa1 size: 528\n"
     ]
    }
   ],
   "source": [
    "! docker push gonsoomoon/hello-gsmoon "
   ]
  },
  {
   "cell_type": "code",
   "execution_count": null,
   "id": "5a488323-c9da-46bc-a621-784454325018",
   "metadata": {},
   "outputs": [],
   "source": []
  }
 ],
 "metadata": {
  "kernelspec": {
   "display_name": "conda_python3",
   "language": "python",
   "name": "conda_python3"
  },
  "language_info": {
   "codemirror_mode": {
    "name": "ipython",
    "version": 3
   },
   "file_extension": ".py",
   "mimetype": "text/x-python",
   "name": "python",
   "nbconvert_exporter": "python",
   "pygments_lexer": "ipython3",
   "version": "3.10.10"
  }
 },
 "nbformat": 4,
 "nbformat_minor": 5
}
